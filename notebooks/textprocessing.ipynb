{
 "cells": [
  {
   "cell_type": "code",
   "execution_count": 15,
   "metadata": {},
   "outputs": [],
   "source": [
    "import datetime\n",
    "import logging\n",
    "import json\n",
    "import os\n",
    "\n",
    "import nltk\n",
    "import numpy as np\n",
    "import pandas as pd\n",
    "from nltk.corpus import stopwords\n",
    "from nltk.stem import SnowballStemmer, WordNetLemmatizer\n",
    "from nltk.tokenize import word_tokenize\n",
    "from nltk import pos_tag\n"
   ]
  },
  {
   "cell_type": "code",
   "execution_count": 2,
   "metadata": {},
   "outputs": [
    {
     "data": {
      "text/plain": [
       "<Logger __main__ (INFO)>"
      ]
     },
     "execution_count": 2,
     "metadata": {},
     "output_type": "execute_result"
    }
   ],
   "source": [
    "logging.basicConfig(level=logging.INFO)\n",
    "logger = logging.getLogger(__name__)\n",
    "\n",
    "logger"
   ]
  },
  {
   "cell_type": "code",
   "execution_count": 3,
   "metadata": {},
   "outputs": [
    {
     "name": "stderr",
     "output_type": "stream",
     "text": [
      "[nltk_data] Downloading package averaged_perceptron_tagger to\n",
      "[nltk_data]     /home/legion_5/nltk_data...\n",
      "[nltk_data]   Package averaged_perceptron_tagger is already up-to-\n",
      "[nltk_data]       date!\n",
      "[nltk_data] Downloading package stopwords to\n",
      "[nltk_data]     /home/legion_5/nltk_data...\n",
      "[nltk_data]   Package stopwords is already up-to-date!\n",
      "[nltk_data] Downloading package punkt to /home/legion_5/nltk_data...\n",
      "[nltk_data]   Package punkt is already up-to-date!\n",
      "[nltk_data] Downloading package wordnet to /home/legion_5/nltk_data...\n"
     ]
    }
   ],
   "source": [
    "nltk.download(\"averaged_perceptron_tagger\")\n",
    "nltk.download(\"stopwords\")\n",
    "nltk.download(\"punkt\")\n",
    "nltk.download(\"wordnet\")\n",
    "\n",
    "stop_words = set(stopwords.words(\"english\"))\n",
    "stemmer = SnowballStemmer(\"english\")\n",
    "lemmatizer = WordNetLemmatizer()"
   ]
  },
  {
   "cell_type": "code",
   "execution_count": 4,
   "metadata": {},
   "outputs": [],
   "source": [
    "file_name = \"tickets_classification_eng\"\n",
    "\n",
    "def read_json(path: str, file_name: str):\n",
    "    \"\"\"This method is used to read the json file\"\"\"\n",
    "    file_path = os.path.join(path, file_name)\n",
    "    datos = None\n",
    "    with open(file_path, \"r\") as file:\n",
    "        datos = json.load(file)\n",
    "    df_tickets = pd.json_normalize(datos)\n",
    "    return df_tickets, datos\n",
    "\n",
    "name_data_input = f\"{file_name}\"\n",
    "PATH_DATA_RAW = \"../tracking/data/data_raw\"\n",
    "PATH_DATA_PROCESSED = \"../tracking/data/data_processed\"\n",
    "\n",
    "# reading JSON data\n",
    "df_tickets, json_tickets  = read_json(\n",
    "    path=PATH_DATA_RAW, file_name=f\"{name_data_input}.json\"\n",
    ")"
   ]
  },
  {
   "cell_type": "code",
   "execution_count": 5,
   "metadata": {},
   "outputs": [
    {
     "data": {
      "text/html": [
       "<div>\n",
       "<style scoped>\n",
       "    .dataframe tbody tr th:only-of-type {\n",
       "        vertical-align: middle;\n",
       "    }\n",
       "\n",
       "    .dataframe tbody tr th {\n",
       "        vertical-align: top;\n",
       "    }\n",
       "\n",
       "    .dataframe thead th {\n",
       "        text-align: right;\n",
       "    }\n",
       "</style>\n",
       "<table border=\"1\" class=\"dataframe\">\n",
       "  <thead>\n",
       "    <tr style=\"text-align: right;\">\n",
       "      <th></th>\n",
       "      <th>_index</th>\n",
       "      <th>_type</th>\n",
       "      <th>_id</th>\n",
       "      <th>_score</th>\n",
       "      <th>_source.tags</th>\n",
       "      <th>_source.zip_code</th>\n",
       "      <th>_source.complaint_id</th>\n",
       "      <th>_source.issue</th>\n",
       "      <th>_source.date_received</th>\n",
       "      <th>_source.state</th>\n",
       "      <th>...</th>\n",
       "      <th>_source.company_response</th>\n",
       "      <th>_source.company</th>\n",
       "      <th>_source.submitted_via</th>\n",
       "      <th>_source.date_sent_to_company</th>\n",
       "      <th>_source.company_public_response</th>\n",
       "      <th>_source.sub_product</th>\n",
       "      <th>_source.timely</th>\n",
       "      <th>_source.complaint_what_happened</th>\n",
       "      <th>_source.sub_issue</th>\n",
       "      <th>_source.consumer_consent_provided</th>\n",
       "    </tr>\n",
       "  </thead>\n",
       "  <tbody>\n",
       "    <tr>\n",
       "      <th>35387</th>\n",
       "      <td>complaint-public-v2</td>\n",
       "      <td>complaint</td>\n",
       "      <td>41</td>\n",
       "      <td>0.0</td>\n",
       "      <td>None</td>\n",
       "      <td>63031</td>\n",
       "      <td>41</td>\n",
       "      <td>Loan modification,collection,foreclosure</td>\n",
       "      <td>2012-05-21T12:00:00-05:00</td>\n",
       "      <td>MO</td>\n",
       "      <td>...</td>\n",
       "      <td>Closed with explanation</td>\n",
       "      <td>JPMORGAN CHASE &amp; CO.</td>\n",
       "      <td>Phone</td>\n",
       "      <td>2012-05-29T12:00:00-05:00</td>\n",
       "      <td>None</td>\n",
       "      <td>Conventional fixed mortgage</td>\n",
       "      <td>Yes</td>\n",
       "      <td></td>\n",
       "      <td>None</td>\n",
       "      <td>N/A</td>\n",
       "    </tr>\n",
       "    <tr>\n",
       "      <th>55952</th>\n",
       "      <td>complaint-public-v2</td>\n",
       "      <td>complaint</td>\n",
       "      <td>2923855</td>\n",
       "      <td>0.0</td>\n",
       "      <td>None</td>\n",
       "      <td>110XX</td>\n",
       "      <td>2923855</td>\n",
       "      <td>Problem caused by your funds being low</td>\n",
       "      <td>2018-06-01T12:00:00-05:00</td>\n",
       "      <td>NY</td>\n",
       "      <td>...</td>\n",
       "      <td>Closed with monetary relief</td>\n",
       "      <td>JPMORGAN CHASE &amp; CO.</td>\n",
       "      <td>Web</td>\n",
       "      <td>2018-06-01T12:00:00-05:00</td>\n",
       "      <td>None</td>\n",
       "      <td>Checking account</td>\n",
       "      <td>Yes</td>\n",
       "      <td>From XX/XX/XXXX through XX/XX/XXXX Chase Bank ...</td>\n",
       "      <td>Non-sufficient funds and associated fees</td>\n",
       "      <td>Consent provided</td>\n",
       "    </tr>\n",
       "    <tr>\n",
       "      <th>6597</th>\n",
       "      <td>complaint-public-v2</td>\n",
       "      <td>complaint</td>\n",
       "      <td>1642171</td>\n",
       "      <td>0.0</td>\n",
       "      <td>None</td>\n",
       "      <td>923XX</td>\n",
       "      <td>1642171</td>\n",
       "      <td>Deposits and withdrawals</td>\n",
       "      <td>2015-11-05T12:00:00-05:00</td>\n",
       "      <td>CA</td>\n",
       "      <td>...</td>\n",
       "      <td>Closed with explanation</td>\n",
       "      <td>JPMORGAN CHASE &amp; CO.</td>\n",
       "      <td>Web</td>\n",
       "      <td>2015-11-05T12:00:00-05:00</td>\n",
       "      <td>None</td>\n",
       "      <td>Other bank product/service</td>\n",
       "      <td>Yes</td>\n",
       "      <td>XX/XX/XXXX I mailed out a check for {$890.00} ...</td>\n",
       "      <td>None</td>\n",
       "      <td>Consent provided</td>\n",
       "    </tr>\n",
       "    <tr>\n",
       "      <th>55707</th>\n",
       "      <td>complaint-public-v2</td>\n",
       "      <td>complaint</td>\n",
       "      <td>3041680</td>\n",
       "      <td>0.0</td>\n",
       "      <td>None</td>\n",
       "      <td>26651</td>\n",
       "      <td>3041680</td>\n",
       "      <td>Fees or interest</td>\n",
       "      <td>2018-10-09T12:00:00-05:00</td>\n",
       "      <td>WV</td>\n",
       "      <td>...</td>\n",
       "      <td>Closed with explanation</td>\n",
       "      <td>JPMORGAN CHASE &amp; CO.</td>\n",
       "      <td>Referral</td>\n",
       "      <td>2018-10-10T12:00:00-05:00</td>\n",
       "      <td>None</td>\n",
       "      <td>General-purpose credit card or charge card</td>\n",
       "      <td>Yes</td>\n",
       "      <td></td>\n",
       "      <td>Problem with fees</td>\n",
       "      <td>N/A</td>\n",
       "    </tr>\n",
       "    <tr>\n",
       "      <th>8277</th>\n",
       "      <td>complaint-public-v2</td>\n",
       "      <td>complaint</td>\n",
       "      <td>3295264</td>\n",
       "      <td>0.0</td>\n",
       "      <td>None</td>\n",
       "      <td>78213</td>\n",
       "      <td>3295264</td>\n",
       "      <td>Closing an account</td>\n",
       "      <td>2019-07-01T12:00:00-05:00</td>\n",
       "      <td>TX</td>\n",
       "      <td>...</td>\n",
       "      <td>Closed with explanation</td>\n",
       "      <td>JPMORGAN CHASE &amp; CO.</td>\n",
       "      <td>Referral</td>\n",
       "      <td>2019-07-03T12:00:00-05:00</td>\n",
       "      <td>None</td>\n",
       "      <td>Checking account</td>\n",
       "      <td>Yes</td>\n",
       "      <td></td>\n",
       "      <td>Company closed your account</td>\n",
       "      <td>N/A</td>\n",
       "    </tr>\n",
       "  </tbody>\n",
       "</table>\n",
       "<p>5 rows × 22 columns</p>\n",
       "</div>"
      ],
      "text/plain": [
       "                    _index      _type      _id  _score _source.tags  \\\n",
       "35387  complaint-public-v2  complaint       41     0.0         None   \n",
       "55952  complaint-public-v2  complaint  2923855     0.0         None   \n",
       "6597   complaint-public-v2  complaint  1642171     0.0         None   \n",
       "55707  complaint-public-v2  complaint  3041680     0.0         None   \n",
       "8277   complaint-public-v2  complaint  3295264     0.0         None   \n",
       "\n",
       "      _source.zip_code _source.complaint_id  \\\n",
       "35387            63031                   41   \n",
       "55952            110XX              2923855   \n",
       "6597             923XX              1642171   \n",
       "55707            26651              3041680   \n",
       "8277             78213              3295264   \n",
       "\n",
       "                                  _source.issue      _source.date_received  \\\n",
       "35387  Loan modification,collection,foreclosure  2012-05-21T12:00:00-05:00   \n",
       "55952    Problem caused by your funds being low  2018-06-01T12:00:00-05:00   \n",
       "6597                   Deposits and withdrawals  2015-11-05T12:00:00-05:00   \n",
       "55707                          Fees or interest  2018-10-09T12:00:00-05:00   \n",
       "8277                         Closing an account  2019-07-01T12:00:00-05:00   \n",
       "\n",
       "      _source.state  ...     _source.company_response       _source.company  \\\n",
       "35387            MO  ...      Closed with explanation  JPMORGAN CHASE & CO.   \n",
       "55952            NY  ...  Closed with monetary relief  JPMORGAN CHASE & CO.   \n",
       "6597             CA  ...      Closed with explanation  JPMORGAN CHASE & CO.   \n",
       "55707            WV  ...      Closed with explanation  JPMORGAN CHASE & CO.   \n",
       "8277             TX  ...      Closed with explanation  JPMORGAN CHASE & CO.   \n",
       "\n",
       "      _source.submitted_via _source.date_sent_to_company  \\\n",
       "35387                 Phone    2012-05-29T12:00:00-05:00   \n",
       "55952                   Web    2018-06-01T12:00:00-05:00   \n",
       "6597                    Web    2015-11-05T12:00:00-05:00   \n",
       "55707              Referral    2018-10-10T12:00:00-05:00   \n",
       "8277               Referral    2019-07-03T12:00:00-05:00   \n",
       "\n",
       "      _source.company_public_response  \\\n",
       "35387                            None   \n",
       "55952                            None   \n",
       "6597                             None   \n",
       "55707                            None   \n",
       "8277                             None   \n",
       "\n",
       "                              _source.sub_product _source.timely  \\\n",
       "35387                 Conventional fixed mortgage            Yes   \n",
       "55952                            Checking account            Yes   \n",
       "6597                   Other bank product/service            Yes   \n",
       "55707  General-purpose credit card or charge card            Yes   \n",
       "8277                             Checking account            Yes   \n",
       "\n",
       "                         _source.complaint_what_happened  \\\n",
       "35387                                                      \n",
       "55952  From XX/XX/XXXX through XX/XX/XXXX Chase Bank ...   \n",
       "6597   XX/XX/XXXX I mailed out a check for {$890.00} ...   \n",
       "55707                                                      \n",
       "8277                                                       \n",
       "\n",
       "                              _source.sub_issue  \\\n",
       "35387                                      None   \n",
       "55952  Non-sufficient funds and associated fees   \n",
       "6597                                       None   \n",
       "55707                         Problem with fees   \n",
       "8277                Company closed your account   \n",
       "\n",
       "      _source.consumer_consent_provided  \n",
       "35387                               N/A  \n",
       "55952                  Consent provided  \n",
       "6597                   Consent provided  \n",
       "55707                               N/A  \n",
       "8277                                N/A  \n",
       "\n",
       "[5 rows x 22 columns]"
      ]
     },
     "execution_count": 5,
     "metadata": {},
     "output_type": "execute_result"
    }
   ],
   "source": [
    "df_tickets.sample(5, random_state=42)"
   ]
  },
  {
   "cell_type": "code",
   "execution_count": 6,
   "metadata": {},
   "outputs": [
    {
     "data": {
      "text/plain": [
       "(78313, 22)"
      ]
     },
     "execution_count": 6,
     "metadata": {},
     "output_type": "execute_result"
    }
   ],
   "source": [
    "df_tickets.shape"
   ]
  },
  {
   "cell_type": "code",
   "execution_count": 7,
   "metadata": {},
   "outputs": [
    {
     "name": "stderr",
     "output_type": "stream",
     "text": [
      "INFO:__main__:Data successfully transformed\n"
     ]
    },
    {
     "data": {
      "text/plain": [
       "(18963, 2)"
      ]
     },
     "execution_count": 7,
     "metadata": {},
     "output_type": "execute_result"
    }
   ],
   "source": [
    "df = df_tickets[\n",
    "    [\n",
    "        \"_source.complaint_what_happened\",\n",
    "        \"_source.product\",\n",
    "        \"_source.sub_product\",\n",
    "    ]\n",
    "]\n",
    "df = df.rename(\n",
    "    columns={\n",
    "        \"_source.complaint_what_happened\": \"complaint_what_happened\",\n",
    "        \"_source.product\": \"category\",\n",
    "        \"_source.sub_product\": \"sub_product\",\n",
    "    }\n",
    ")\n",
    "df[\"ticket_classification\"] = (\n",
    "    df[\"category\"] + \" + \" + df[\"sub_product\"]\n",
    ")\n",
    "df = df.drop([\"sub_product\", \"category\"], axis=1)\n",
    "df[\"complaint_what_happened\"] = df[\"complaint_what_happened\"].replace(\n",
    "    \"\", np.nan\n",
    ")\n",
    "df = df.dropna(subset=[\"complaint_what_happened\", \"ticket_classification\"])\n",
    "df = df.reset_index(drop=True)\n",
    "logger.info(\"Data successfully transformed\")\n",
    "df.shape"
   ]
  },
  {
   "cell_type": "code",
   "execution_count": 8,
   "metadata": {},
   "outputs": [
    {
     "data": {
      "text/html": [
       "<div>\n",
       "<style scoped>\n",
       "    .dataframe tbody tr th:only-of-type {\n",
       "        vertical-align: middle;\n",
       "    }\n",
       "\n",
       "    .dataframe tbody tr th {\n",
       "        vertical-align: top;\n",
       "    }\n",
       "\n",
       "    .dataframe thead th {\n",
       "        text-align: right;\n",
       "    }\n",
       "</style>\n",
       "<table border=\"1\" class=\"dataframe\">\n",
       "  <thead>\n",
       "    <tr style=\"text-align: right;\">\n",
       "      <th></th>\n",
       "      <th>complaint_what_happened</th>\n",
       "      <th>ticket_classification</th>\n",
       "    </tr>\n",
       "  </thead>\n",
       "  <tbody>\n",
       "    <tr>\n",
       "      <th>7459</th>\n",
       "      <td>I have an auto loan with Chase Auto Finance. \\...</td>\n",
       "      <td>Vehicle loan or lease + Loan</td>\n",
       "    </tr>\n",
       "    <tr>\n",
       "      <th>8700</th>\n",
       "      <td>JP Morgan Chase Bank rejected refinance of cur...</td>\n",
       "      <td>Mortgage + Conventional adjustable mortgage (ARM)</td>\n",
       "    </tr>\n",
       "    <tr>\n",
       "      <th>9084</th>\n",
       "      <td>I have been a member with Chase bank almost a ...</td>\n",
       "      <td>Checking or savings account + Other banking pr...</td>\n",
       "    </tr>\n",
       "    <tr>\n",
       "      <th>7858</th>\n",
       "      <td>On XX/XX/2020, I contacted chase regarding a r...</td>\n",
       "      <td>Mortgage + Conventional home mortgage</td>\n",
       "    </tr>\n",
       "    <tr>\n",
       "      <th>1328</th>\n",
       "      <td>At the end of XXXX XXXX I called customer serv...</td>\n",
       "      <td>Credit card or prepaid card + General-purpose ...</td>\n",
       "    </tr>\n",
       "  </tbody>\n",
       "</table>\n",
       "</div>"
      ],
      "text/plain": [
       "                                complaint_what_happened  \\\n",
       "7459  I have an auto loan with Chase Auto Finance. \\...   \n",
       "8700  JP Morgan Chase Bank rejected refinance of cur...   \n",
       "9084  I have been a member with Chase bank almost a ...   \n",
       "7858  On XX/XX/2020, I contacted chase regarding a r...   \n",
       "1328  At the end of XXXX XXXX I called customer serv...   \n",
       "\n",
       "                                  ticket_classification  \n",
       "7459                       Vehicle loan or lease + Loan  \n",
       "8700  Mortgage + Conventional adjustable mortgage (ARM)  \n",
       "9084  Checking or savings account + Other banking pr...  \n",
       "7858              Mortgage + Conventional home mortgage  \n",
       "1328  Credit card or prepaid card + General-purpose ...  "
      ]
     },
     "execution_count": 8,
     "metadata": {},
     "output_type": "execute_result"
    }
   ],
   "source": [
    "df.sample(5, random_state=42)"
   ]
  },
  {
   "cell_type": "code",
   "execution_count": 9,
   "metadata": {},
   "outputs": [
    {
     "data": {
      "text/plain": [
       "0        Good morning my name is XXXX XXXX and I apprec...\n",
       "1        I upgraded my XXXX XXXX card in XX/XX/2018 and...\n",
       "2        Chase Card was reported on XX/XX/2019. However...\n",
       "3        On XX/XX/2018, while trying to book a XXXX  XX...\n",
       "4        my grand son give me check for {$1600.00} i de...\n",
       "                               ...                        \n",
       "18958    My husband passed away. Chase bank put check o...\n",
       "18959    After being a Chase Card customer for well ove...\n",
       "18960    On Wednesday, XX/XX/XXXX I called Chas, my XXX...\n",
       "18961    I am not familiar with XXXX pay and did not un...\n",
       "18962    I have had flawless credit for 30 yrs. I've ha...\n",
       "Name: complaint_what_happened, Length: 18963, dtype: object"
      ]
     },
     "execution_count": 9,
     "metadata": {},
     "output_type": "execute_result"
    }
   ],
   "source": [
    "column_to_process = df[\"complaint_what_happened\"]\n",
    "column_to_process"
   ]
  },
  {
   "cell_type": "code",
   "execution_count": 16,
   "metadata": {},
   "outputs": [],
   "source": [
    "def tokenize(text: str):\n",
    "    \"\"\"This method is used to tokenize the text\"\"\"\n",
    "    tokens = word_tokenize(text.lower(), language=\"english\")\n",
    "    return tokens\n",
    "\n",
    "def remove_stopwords(tokens: list):\n",
    "    \"\"\"This method is used to remove the stopwords from the text\"\"\"\n",
    "    filtered_tokens = [\n",
    "        word for word in tokens if word.lower() not in stop_words\n",
    "    ]\n",
    "    return filtered_tokens\n",
    "\n",
    "def lemmatize_stemmer(tokens: list):\n",
    "    \"\"\"This method is used to lemmatize the text\"\"\"\n",
    "    lemmatized_tokens = [stemmer.stem(word) for word in tokens]\n",
    "    return lemmatized_tokens\n",
    "\n",
    "def lemmatize(tokens: list):\n",
    "    \"\"\"This method is used to lemmatize the text\"\"\"\n",
    "    lemmatized_tokens = [lemmatizer.lemmatize(word) for word in tokens]\n",
    "    return lemmatized_tokens\n",
    "\n",
    "def pos_tagging(tokens: list):\n",
    "        \"\"\"This method is used to pos_tagging the text\"\"\"\n",
    "        tagged = pos_tag(tokens)\n",
    "        nouns = [word for word, pos in tagged if pos == \"NN\"]\n",
    "        return \" \".join(nouns)"
   ]
  },
  {
   "cell_type": "code",
   "execution_count": 11,
   "metadata": {},
   "outputs": [
    {
     "data": {
      "text/plain": [
       "0        [good, morning, my, name, is, xxxx, xxxx, and,...\n",
       "1        [i, upgraded, my, xxxx, xxxx, card, in, xx/xx/...\n",
       "2        [chase, card, was, reported, on, xx/xx/2019, ....\n",
       "3        [on, xx/xx/2018, ,, while, trying, to, book, a...\n",
       "4        [my, grand, son, give, me, check, for, {, $, 1...\n",
       "                               ...                        \n",
       "18958    [my, husband, passed, away, ., chase, bank, pu...\n",
       "18959    [after, being, a, chase, card, customer, for, ...\n",
       "18960    [on, wednesday, ,, xx/xx/xxxx, i, called, chas...\n",
       "18961    [i, am, not, familiar, with, xxxx, pay, and, d...\n",
       "18962    [i, have, had, flawless, credit, for, 30, yrs,...\n",
       "Name: complaint_what_happened, Length: 18963, dtype: object"
      ]
     },
     "execution_count": 11,
     "metadata": {},
     "output_type": "execute_result"
    }
   ],
   "source": [
    "tokenized_text = column_to_process.apply(tokenize)\n",
    "tokenized_text\n",
    "# text_without_stopwords = tokenized_text.apply(remove_stopwords)\n",
    "# text_lemma = text_without_stopwords.apply(lemmatize)\n",
    "# pos_tagging_tokens = text_lemma.apply(self.pos_tagging)\n",
    "# final_time = datetime.datetime.now()\n",
    "# logger.info(f\"Text successfully processed\")\n",
    "# logger.info(f\"time = {final_time - initial_time}\")\n",
    "# pos_tagging_tokens  # text_without_stopwords.apply(lambda x: ' '.join(x))"
   ]
  },
  {
   "cell_type": "code",
   "execution_count": 12,
   "metadata": {},
   "outputs": [
    {
     "data": {
      "text/plain": [
       "0        [good, morning, name, xxxx, xxxx, appreciate, ...\n",
       "1        [upgraded, xxxx, xxxx, card, xx/xx/2018, told,...\n",
       "2        [chase, card, reported, xx/xx/2019, ., however...\n",
       "3        [xx/xx/2018, ,, trying, book, xxxx, xxxx, tick...\n",
       "4        [grand, son, give, check, {, $, 1600.00, }, de...\n",
       "                               ...                        \n",
       "18958    [husband, passed, away, ., chase, bank, put, c...\n",
       "18959    [chase, card, customer, well, decade, ,, offer...\n",
       "18960    [wednesday, ,, xx/xx/xxxx, called, chas, ,, xx...\n",
       "18961    [familiar, xxxx, pay, understand, great, risk,...\n",
       "18962    [flawless, credit, 30, yrs, ., 've, chase, cre...\n",
       "Name: complaint_what_happened, Length: 18963, dtype: object"
      ]
     },
     "execution_count": 12,
     "metadata": {},
     "output_type": "execute_result"
    }
   ],
   "source": [
    "# tokenized_text = column_to_process.apply(tokenize)\n",
    "text_without_stopwords = tokenized_text.apply(remove_stopwords)\n",
    "text_without_stopwords\n",
    "# text_lemma = text_without_stopwords.apply(lemmatize)\n",
    "# pos_tagging_tokens = text_lemma.apply(self.pos_tagging)\n",
    "# final_time = datetime.datetime.now()\n",
    "# logger.info(f\"Text successfully processed\")\n",
    "# logger.info(f\"time = {final_time - initial_time}\")\n",
    "# pos_tagging_tokens  # text_without_stopwords.apply(lambda x: ' '.join(x))"
   ]
  },
  {
   "cell_type": "code",
   "execution_count": 13,
   "metadata": {},
   "outputs": [
    {
     "data": {
      "text/plain": [
       "0        [good, morning, name, xxxx, xxxx, appreciate, ...\n",
       "1        [upgraded, xxxx, xxxx, card, xx/xx/2018, told,...\n",
       "2        [chase, card, reported, xx/xx/2019, ., however...\n",
       "3        [xx/xx/2018, ,, trying, book, xxxx, xxxx, tick...\n",
       "4        [grand, son, give, check, {, $, 1600.00, }, de...\n",
       "                               ...                        \n",
       "18958    [husband, passed, away, ., chase, bank, put, c...\n",
       "18959    [chase, card, customer, well, decade, ,, offer...\n",
       "18960    [wednesday, ,, xx/xx/xxxx, called, chas, ,, xx...\n",
       "18961    [familiar, xxxx, pay, understand, great, risk,...\n",
       "18962    [flawless, credit, 30, yr, ., 've, chase, cred...\n",
       "Name: complaint_what_happened, Length: 18963, dtype: object"
      ]
     },
     "execution_count": 13,
     "metadata": {},
     "output_type": "execute_result"
    }
   ],
   "source": [
    "# tokenized_text = column_to_process.apply(tokenize)\n",
    "# text_without_stopwords = tokenized_text.apply(remove_stopwords)\n",
    "text_lemma = text_without_stopwords.apply(lemmatize)\n",
    "text_lemma\n",
    "# pos_tagging_tokens = text_lemma.apply(self.pos_tagging)\n",
    "# final_time = datetime.datetime.now()\n",
    "# logger.info(f\"Text successfully processed\")\n",
    "# logger.info(f\"time = {final_time - initial_time}\")\n",
    "# pos_tagging_tokens  # text_without_stopwords.apply(lambda x: ' '.join(x))"
   ]
  },
  {
   "cell_type": "code",
   "execution_count": 14,
   "metadata": {},
   "outputs": [
    {
     "data": {
      "text/plain": [
       "0        [good, morn, name, xxxx, xxxx, appreci, could,...\n",
       "1        [upgrad, xxxx, xxxx, card, xx/xx/2018, told, a...\n",
       "2        [chase, card, report, xx/xx/2019, ., howev, ,,...\n",
       "3        [xx/xx/2018, ,, tri, book, xxxx, xxxx, ticket,...\n",
       "4        [grand, son, give, check, {, $, 1600.00, }, de...\n",
       "                               ...                        \n",
       "18958    [husband, pass, away, ., chase, bank, put, che...\n",
       "18959    [chase, card, custom, well, decad, ,, offer, m...\n",
       "18960    [wednesday, ,, xx/xx/xxxx, call, chas, ,, xxxx...\n",
       "18961    [familiar, xxxx, pay, understand, great, risk,...\n",
       "18962    [flawless, credit, 30, yrs, ., ve, chase, cred...\n",
       "Name: complaint_what_happened, Length: 18963, dtype: object"
      ]
     },
     "execution_count": 14,
     "metadata": {},
     "output_type": "execute_result"
    }
   ],
   "source": [
    "text_lemma_stemmer = text_without_stopwords.apply(lemmatize_stemmer)\n",
    "text_lemma_stemmer"
   ]
  },
  {
   "cell_type": "code",
   "execution_count": 17,
   "metadata": {},
   "outputs": [
    {
     "data": {
      "text/plain": [
       "0        morning name appreciate chase bank cardmember ...\n",
       "1        xxxx card agent date agent information order u...\n",
       "2        chase card application identity consent servic...\n",
       "3        xx/xx/2018 book ticket offer ticket card infor...\n",
       "4        son check deposit account fund chase bank acco...\n",
       "                               ...                        \n",
       "18958    husband bank check hold rent car insurance nee...\n",
       "18959    chase card customer decade solicitation credit...\n",
       "18960    wednesday chas credit card provider claim purc...\n",
       "18961    pay risk consumer chase bank app year trust de...\n",
       "18962    flawless credit yr credit card chase freedom x...\n",
       "Name: complaint_what_happened, Length: 18963, dtype: object"
      ]
     },
     "execution_count": 17,
     "metadata": {},
     "output_type": "execute_result"
    }
   ],
   "source": [
    "pos_tagging_tokens = text_lemma.apply(pos_tagging)\n",
    "pos_tagging_tokens"
   ]
  },
  {
   "cell_type": "code",
   "execution_count": 18,
   "metadata": {},
   "outputs": [
    {
     "data": {
      "text/plain": [
       "0        morn name appreci chase bank cardmemb servic c...\n",
       "1        card anniversari date inform order account ann...\n",
       "2        card report howev submit ident consent fraudul...\n",
       "3        xx/xx/2018 book ticket offer ticket appli card...\n",
       "4        son check deposit account fund bank account mo...\n",
       "                               ...                        \n",
       "18958    husband pass bank check hold rent car insur ne...\n",
       "18959    card custom solicit credit card bonus airlin h...\n",
       "18960    wednesday call chas credit card provid claim p...\n",
       "18961    pay risk provid consum chase bank app year tru...\n",
       "18962    flawless credit yrs chase credit card chase fr...\n",
       "Name: complaint_what_happened, Length: 18963, dtype: object"
      ]
     },
     "execution_count": 18,
     "metadata": {},
     "output_type": "execute_result"
    }
   ],
   "source": [
    "pos_tagging_tokens_stemmer = text_lemma_stemmer.apply(pos_tagging)\n",
    "pos_tagging_tokens_stemmer"
   ]
  },
  {
   "cell_type": "code",
   "execution_count": 23,
   "metadata": {},
   "outputs": [
    {
     "data": {
      "text/plain": [
       "0        morning name appreciate chase bank cardmember ...\n",
       "1         card agent date agent information order upgra...\n",
       "2        chase card application identity consent servic...\n",
       "3        2018 book ticket offer ticket card information...\n",
       "4        son check deposit account fund chase bank acco...\n",
       "                               ...                        \n",
       "18958    husband bank check hold rent car insurance nee...\n",
       "18959    chase card customer decade solicitation credit...\n",
       "18960    wednesday chas credit card provider claim purc...\n",
       "18961    pay risk consumer chase bank app year trust de...\n",
       "18962    flawless credit yr credit card chase freedom  ...\n",
       "Name: complaint_what_happened, Length: 18963, dtype: object"
      ]
     },
     "execution_count": 23,
     "metadata": {},
     "output_type": "execute_result"
    }
   ],
   "source": [
    "pos_tagging_tokens.str.replace(\n",
    "            r\"x+/\", \"\", regex=True\n",
    "        ).str.replace(\n",
    "            \"xxxx\", \"\"\n",
    "        )"
   ]
  },
  {
   "cell_type": "code",
   "execution_count": 24,
   "metadata": {},
   "outputs": [
    {
     "data": {
      "text/plain": [
       "(18963, 2)"
      ]
     },
     "execution_count": 24,
     "metadata": {},
     "output_type": "execute_result"
    }
   ],
   "source": [
    "df.shape"
   ]
  },
  {
   "cell_type": "code",
   "execution_count": 25,
   "metadata": {},
   "outputs": [
    {
     "data": {
      "text/plain": [
       "(18963, 3)"
      ]
     },
     "execution_count": 25,
     "metadata": {},
     "output_type": "execute_result"
    }
   ],
   "source": [
    "df[\"processed_text\"] = pos_tagging_tokens.str.replace(\n",
    "    r\"x+/\", \"\", regex=True\n",
    ").str.replace(\n",
    "    \"xxxx\", \"\"\n",
    ")\n",
    "df.shape"
   ]
  },
  {
   "cell_type": "code",
   "execution_count": 26,
   "metadata": {},
   "outputs": [
    {
     "data": {
      "text/html": [
       "<div>\n",
       "<style scoped>\n",
       "    .dataframe tbody tr th:only-of-type {\n",
       "        vertical-align: middle;\n",
       "    }\n",
       "\n",
       "    .dataframe tbody tr th {\n",
       "        vertical-align: top;\n",
       "    }\n",
       "\n",
       "    .dataframe thead th {\n",
       "        text-align: right;\n",
       "    }\n",
       "</style>\n",
       "<table border=\"1\" class=\"dataframe\">\n",
       "  <thead>\n",
       "    <tr style=\"text-align: right;\">\n",
       "      <th></th>\n",
       "      <th>complaint_what_happened</th>\n",
       "      <th>ticket_classification</th>\n",
       "      <th>processed_text</th>\n",
       "    </tr>\n",
       "  </thead>\n",
       "  <tbody>\n",
       "    <tr>\n",
       "      <th>7459</th>\n",
       "      <td>I have an auto loan with Chase Auto Finance. \\...</td>\n",
       "      <td>Vehicle loan or lease + Loan</td>\n",
       "      <td>auto loan auto finance instruction loan payoff...</td>\n",
       "    </tr>\n",
       "    <tr>\n",
       "      <th>8700</th>\n",
       "      <td>JP Morgan Chase Bank rejected refinance of cur...</td>\n",
       "      <td>Mortgage + Conventional adjustable mortgage (ARM)</td>\n",
       "      <td>jp bank refinance predatory jp bank loan mortg...</td>\n",
       "    </tr>\n",
       "    <tr>\n",
       "      <th>9084</th>\n",
       "      <td>I have been a member with Chase bank almost a ...</td>\n",
       "      <td>Checking or savings account + Other banking pr...</td>\n",
       "      <td>member chase bank year account organization ar...</td>\n",
       "    </tr>\n",
       "    <tr>\n",
       "      <th>7858</th>\n",
       "      <td>On XX/XX/2020, I contacted chase regarding a r...</td>\n",
       "      <td>Mortgage + Conventional home mortgage</td>\n",
       "      <td>2020 chase cash equity document step emailstoc...</td>\n",
       "    </tr>\n",
       "    <tr>\n",
       "      <th>1328</th>\n",
       "      <td>At the end of XXXX XXXX I called customer serv...</td>\n",
       "      <td>Credit card or prepaid card + General-purpose ...</td>\n",
       "      <td>end   customer service fee credit card stateme...</td>\n",
       "    </tr>\n",
       "  </tbody>\n",
       "</table>\n",
       "</div>"
      ],
      "text/plain": [
       "                                complaint_what_happened  \\\n",
       "7459  I have an auto loan with Chase Auto Finance. \\...   \n",
       "8700  JP Morgan Chase Bank rejected refinance of cur...   \n",
       "9084  I have been a member with Chase bank almost a ...   \n",
       "7858  On XX/XX/2020, I contacted chase regarding a r...   \n",
       "1328  At the end of XXXX XXXX I called customer serv...   \n",
       "\n",
       "                                  ticket_classification  \\\n",
       "7459                       Vehicle loan or lease + Loan   \n",
       "8700  Mortgage + Conventional adjustable mortgage (ARM)   \n",
       "9084  Checking or savings account + Other banking pr...   \n",
       "7858              Mortgage + Conventional home mortgage   \n",
       "1328  Credit card or prepaid card + General-purpose ...   \n",
       "\n",
       "                                         processed_text  \n",
       "7459  auto loan auto finance instruction loan payoff...  \n",
       "8700  jp bank refinance predatory jp bank loan mortg...  \n",
       "9084  member chase bank year account organization ar...  \n",
       "7858  2020 chase cash equity document step emailstoc...  \n",
       "1328  end   customer service fee credit card stateme...  "
      ]
     },
     "execution_count": 26,
     "metadata": {},
     "output_type": "execute_result"
    }
   ],
   "source": [
    "df.sample(5, random_state=42)"
   ]
  },
  {
   "cell_type": "code",
   "execution_count": 29,
   "metadata": {},
   "outputs": [
    {
     "data": {
      "text/plain": [
       "(18963, 3)"
      ]
     },
     "execution_count": 29,
     "metadata": {},
     "output_type": "execute_result"
    }
   ],
   "source": [
    "df.dropna(subset=[\"processed_text\"]).shape"
   ]
  },
  {
   "cell_type": "code",
   "execution_count": 35,
   "metadata": {},
   "outputs": [
    {
     "data": {
      "text/html": [
       "<div>\n",
       "<style scoped>\n",
       "    .dataframe tbody tr th:only-of-type {\n",
       "        vertical-align: middle;\n",
       "    }\n",
       "\n",
       "    .dataframe tbody tr th {\n",
       "        vertical-align: top;\n",
       "    }\n",
       "\n",
       "    .dataframe thead th {\n",
       "        text-align: right;\n",
       "    }\n",
       "</style>\n",
       "<table border=\"1\" class=\"dataframe\">\n",
       "  <thead>\n",
       "    <tr style=\"text-align: right;\">\n",
       "      <th></th>\n",
       "      <th>complaint_what_happened</th>\n",
       "      <th>ticket_classification</th>\n",
       "      <th>processed_text</th>\n",
       "    </tr>\n",
       "  </thead>\n",
       "  <tbody>\n",
       "    <tr>\n",
       "      <th>7459</th>\n",
       "      <td>I have an auto loan with Chase Auto Finance. \\...</td>\n",
       "      <td>Vehicle loan or lease + Loan</td>\n",
       "      <td>auto loan auto financ instruct loan payoff amo...</td>\n",
       "    </tr>\n",
       "    <tr>\n",
       "      <th>8700</th>\n",
       "      <td>JP Morgan Chase Bank rejected refinance of cur...</td>\n",
       "      <td>Mortgage + Conventional adjustable mortgage (ARM)</td>\n",
       "      <td>jp bank reject predatori jp bank loan payment ...</td>\n",
       "    </tr>\n",
       "    <tr>\n",
       "      <th>9084</th>\n",
       "      <td>I have been a member with Chase bank almost a ...</td>\n",
       "      <td>Checking or savings account + Other banking pr...</td>\n",
       "      <td>member chase bank year account funer year amou...</td>\n",
       "    </tr>\n",
       "    <tr>\n",
       "      <th>7858</th>\n",
       "      <td>On XX/XX/2020, I contacted chase regarding a r...</td>\n",
       "      <td>Mortgage + Conventional home mortgage</td>\n",
       "      <td>2020 chase regard refi cash equiti sign wait s...</td>\n",
       "    </tr>\n",
       "    <tr>\n",
       "      <th>1328</th>\n",
       "      <td>At the end of XXXX XXXX I called customer serv...</td>\n",
       "      <td>Credit card or prepaid card + General-purpose ...</td>\n",
       "      <td>end  call custom fee credit card statement age...</td>\n",
       "    </tr>\n",
       "  </tbody>\n",
       "</table>\n",
       "</div>"
      ],
      "text/plain": [
       "                                complaint_what_happened  \\\n",
       "7459  I have an auto loan with Chase Auto Finance. \\...   \n",
       "8700  JP Morgan Chase Bank rejected refinance of cur...   \n",
       "9084  I have been a member with Chase bank almost a ...   \n",
       "7858  On XX/XX/2020, I contacted chase regarding a r...   \n",
       "1328  At the end of XXXX XXXX I called customer serv...   \n",
       "\n",
       "                                  ticket_classification  \\\n",
       "7459                       Vehicle loan or lease + Loan   \n",
       "8700  Mortgage + Conventional adjustable mortgage (ARM)   \n",
       "9084  Checking or savings account + Other banking pr...   \n",
       "7858              Mortgage + Conventional home mortgage   \n",
       "1328  Credit card or prepaid card + General-purpose ...   \n",
       "\n",
       "                                         processed_text  \n",
       "7459  auto loan auto financ instruct loan payoff amo...  \n",
       "8700  jp bank reject predatori jp bank loan payment ...  \n",
       "9084  member chase bank year account funer year amou...  \n",
       "7858  2020 chase regard refi cash equiti sign wait s...  \n",
       "1328  end  call custom fee credit card statement age...  "
      ]
     },
     "execution_count": 35,
     "metadata": {},
     "output_type": "execute_result"
    }
   ],
   "source": [
    "pd.read_csv(\"../tracking/data/data_processed/tickets_classification_eng_1.csv\").sample(5, random_state=42)"
   ]
  },
  {
   "cell_type": "code",
   "execution_count": 37,
   "metadata": {},
   "outputs": [
    {
     "data": {
      "text/html": [
       "<div>\n",
       "<style scoped>\n",
       "    .dataframe tbody tr th:only-of-type {\n",
       "        vertical-align: middle;\n",
       "    }\n",
       "\n",
       "    .dataframe tbody tr th {\n",
       "        vertical-align: top;\n",
       "    }\n",
       "\n",
       "    .dataframe thead th {\n",
       "        text-align: right;\n",
       "    }\n",
       "</style>\n",
       "<table border=\"1\" class=\"dataframe\">\n",
       "  <thead>\n",
       "    <tr style=\"text-align: right;\">\n",
       "      <th></th>\n",
       "      <th>complaint_what_happened</th>\n",
       "      <th>ticket_classification</th>\n",
       "      <th>processed_text</th>\n",
       "    </tr>\n",
       "  </thead>\n",
       "  <tbody>\n",
       "    <tr>\n",
       "      <th>7459</th>\n",
       "      <td>I have an auto loan with Chase Auto Finance. \\...</td>\n",
       "      <td>Vehicle loan or lease + Loan</td>\n",
       "      <td>auto loan auto finance instruction loan payoff...</td>\n",
       "    </tr>\n",
       "    <tr>\n",
       "      <th>8700</th>\n",
       "      <td>JP Morgan Chase Bank rejected refinance of cur...</td>\n",
       "      <td>Mortgage + Conventional adjustable mortgage (ARM)</td>\n",
       "      <td>jp bank refinance predatory jp bank loan mortg...</td>\n",
       "    </tr>\n",
       "    <tr>\n",
       "      <th>9084</th>\n",
       "      <td>I have been a member with Chase bank almost a ...</td>\n",
       "      <td>Checking or savings account + Other banking pr...</td>\n",
       "      <td>member chase bank year account organization ar...</td>\n",
       "    </tr>\n",
       "    <tr>\n",
       "      <th>7858</th>\n",
       "      <td>On XX/XX/2020, I contacted chase regarding a r...</td>\n",
       "      <td>Mortgage + Conventional home mortgage</td>\n",
       "      <td>2020 chase cash equity document step emailstoc...</td>\n",
       "    </tr>\n",
       "    <tr>\n",
       "      <th>1328</th>\n",
       "      <td>At the end of XXXX XXXX I called customer serv...</td>\n",
       "      <td>Credit card or prepaid card + General-purpose ...</td>\n",
       "      <td>end   customer service fee credit card stateme...</td>\n",
       "    </tr>\n",
       "  </tbody>\n",
       "</table>\n",
       "</div>"
      ],
      "text/plain": [
       "                                complaint_what_happened  \\\n",
       "7459  I have an auto loan with Chase Auto Finance. \\...   \n",
       "8700  JP Morgan Chase Bank rejected refinance of cur...   \n",
       "9084  I have been a member with Chase bank almost a ...   \n",
       "7858  On XX/XX/2020, I contacted chase regarding a r...   \n",
       "1328  At the end of XXXX XXXX I called customer serv...   \n",
       "\n",
       "                                  ticket_classification  \\\n",
       "7459                       Vehicle loan or lease + Loan   \n",
       "8700  Mortgage + Conventional adjustable mortgage (ARM)   \n",
       "9084  Checking or savings account + Other banking pr...   \n",
       "7858              Mortgage + Conventional home mortgage   \n",
       "1328  Credit card or prepaid card + General-purpose ...   \n",
       "\n",
       "                                         processed_text  \n",
       "7459  auto loan auto finance instruction loan payoff...  \n",
       "8700  jp bank refinance predatory jp bank loan mortg...  \n",
       "9084  member chase bank year account organization ar...  \n",
       "7858  2020 chase cash equity document step emailstoc...  \n",
       "1328  end   customer service fee credit card stateme...  "
      ]
     },
     "execution_count": 37,
     "metadata": {},
     "output_type": "execute_result"
    }
   ],
   "source": [
    "pd.read_csv(\"../tracking/data/data_processed/tickets_classification_eng_lemmatized.csv\").sample(5, random_state=42)"
   ]
  }
 ],
 "metadata": {
  "kernelspec": {
   "display_name": ".venv",
   "language": "python",
   "name": "python3"
  },
  "language_info": {
   "codemirror_mode": {
    "name": "ipython",
    "version": 3
   },
   "file_extension": ".py",
   "mimetype": "text/x-python",
   "name": "python",
   "nbconvert_exporter": "python",
   "pygments_lexer": "ipython3",
   "version": "3.9.17"
  }
 },
 "nbformat": 4,
 "nbformat_minor": 2
}
