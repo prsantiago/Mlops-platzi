{
 "cells": [
  {
   "cell_type": "code",
   "execution_count": 45,
   "metadata": {},
   "outputs": [],
   "source": [
    "import logging\n",
    "import os\n",
    "\n",
    "import numpy as np\n",
    "import pandas as pd\n",
    "from sklearn.feature_extraction.text import TfidfVectorizer\n",
    "from sklearn.decomposition import NMF"
   ]
  },
  {
   "cell_type": "code",
   "execution_count": 9,
   "metadata": {},
   "outputs": [
    {
     "data": {
      "text/plain": [
       "(18963, 3)"
      ]
     },
     "execution_count": 9,
     "metadata": {},
     "output_type": "execute_result"
    }
   ],
   "source": [
    "data_path_processed = \"../tracking/data/data_processed\"\n",
    "data_version = 1\n",
    "file_name=f\"tickets_classification_eng_{data_version}.csv\"\n",
    "\n",
    "file_path = os.path.join(data_path_processed, file_name)\n",
    "df = pd.read_csv(file_path)\n",
    "df.shape"
   ]
  },
  {
   "cell_type": "code",
   "execution_count": 10,
   "metadata": {},
   "outputs": [],
   "source": [
    "tfidf = TfidfVectorizer(min_df=2, max_df=0.95)\n",
    "logging.basicConfig(level=logging.INFO)\n",
    "logger = logging.getLogger(__name__)"
   ]
  },
  {
   "cell_type": "code",
   "execution_count": 17,
   "metadata": {},
   "outputs": [],
   "source": [
    "df = df.dropna(subset=[\"processed_text\"])"
   ]
  },
  {
   "cell_type": "code",
   "execution_count": 18,
   "metadata": {},
   "outputs": [
    {
     "data": {
      "text/plain": [
       "(18961, 3)"
      ]
     },
     "execution_count": 18,
     "metadata": {},
     "output_type": "execute_result"
    }
   ],
   "source": [
    "df[\"processed_text\"].sample(5, random_state=42)\n",
    "df.shape"
   ]
  },
  {
   "cell_type": "code",
   "execution_count": 19,
   "metadata": {},
   "outputs": [
    {
     "name": "stderr",
     "output_type": "stream",
     "text": [
      "INFO:__main__:TF-IDF vectorizer fitted with 7167  unique words\n"
     ]
    }
   ],
   "source": [
    "dtm = tfidf.fit_transform(df[\"processed_text\"])\n",
    "len_vocab = len(tfidf.vocabulary_)\n",
    "logger.info(f\"TF-IDF vectorizer fitted with {len_vocab}  unique words\")"
   ]
  },
  {
   "cell_type": "code",
   "execution_count": null,
   "metadata": {},
   "outputs": [],
   "source": [
    "nmf = NMF(n_components=3, random_state=123)\n",
    "# nmf.fit(dtm)\n",
    "W = nmf.fit_transform(dtm)\n",
    "H = nmf.components_"
   ]
  },
  {
   "cell_type": "code",
   "execution_count": 52,
   "metadata": {},
   "outputs": [
    {
     "data": {
      "text/plain": [
       "(array([[0.02645237, 0.01315789, 0.02177922],\n",
       "        [0.00856271, 0.01632226, 0.00320532],\n",
       "        [0.        , 0.06172149, 0.        ],\n",
       "        ...,\n",
       "        [0.01893377, 0.02293754, 0.01144488],\n",
       "        [0.03037479, 0.02187064, 0.00764549],\n",
       "        [0.00050097, 0.0553455 , 0.07718023]]),\n",
       " array([[6.41588415e-04, 2.66501462e-04, 0.00000000e+00, ...,\n",
       "         3.65930494e-03, 1.24901995e-03, 2.62607675e-04],\n",
       "        [0.00000000e+00, 4.67068206e-06, 9.14965100e-04, ...,\n",
       "         6.01930890e-03, 0.00000000e+00, 5.07276639e-04],\n",
       "        [2.22356154e-04, 3.50283715e-04, 3.53713491e-04, ...,\n",
       "         5.38955214e-03, 2.74664513e-03, 0.00000000e+00]]))"
      ]
     },
     "execution_count": 52,
     "metadata": {},
     "output_type": "execute_result"
    }
   ],
   "source": [
    "W, H"
   ]
  },
  {
   "cell_type": "code",
   "execution_count": 51,
   "metadata": {},
   "outputs": [
    {
     "data": {
      "text/plain": [
       "array(['00', '000', '11', ..., 'zip', 'zone', 'zoom'], dtype=object)"
      ]
     },
     "execution_count": 51,
     "metadata": {},
     "output_type": "execute_result"
    }
   ],
   "source": [
    "vocab = np.array(tfidf.get_feature_names_out())\n",
    "vocab"
   ]
  },
  {
   "cell_type": "code",
   "execution_count": 53,
   "metadata": {},
   "outputs": [
    {
     "data": {
      "text/plain": [
       "['account bank check money chase deposit fund day claim fee branch call transact number charg',\n",
       " 'credit card report chase inquiri charg account disput compani score letter author fraud inform use',\n",
       " 'payment loan chase mortgag month home interest time pay year modif rate amount fee letter']"
      ]
     },
     "execution_count": 53,
     "metadata": {},
     "output_type": "execute_result"
    }
   ],
   "source": [
    "top_words = lambda t: [vocab[i] for i in np.argsort(t)[: -15 - 1 : -1]]\n",
    "topic_words = [top_words(t) for t in H]\n",
    "topics = [\" \".join(t) for t in topic_words]\n",
    "topics"
   ]
  },
  {
   "cell_type": "code",
   "execution_count": 67,
   "metadata": {},
   "outputs": [
    {
     "data": {
      "text/html": [
       "<div>\n",
       "<style scoped>\n",
       "    .dataframe tbody tr th:only-of-type {\n",
       "        vertical-align: middle;\n",
       "    }\n",
       "\n",
       "    .dataframe tbody tr th {\n",
       "        vertical-align: top;\n",
       "    }\n",
       "\n",
       "    .dataframe thead th {\n",
       "        text-align: right;\n",
       "    }\n",
       "</style>\n",
       "<table border=\"1\" class=\"dataframe\">\n",
       "  <thead>\n",
       "    <tr style=\"text-align: right;\">\n",
       "      <th></th>\n",
       "      <th>complaint_what_happened</th>\n",
       "      <th>ticket_classification</th>\n",
       "      <th>processed_text</th>\n",
       "      <th>relevant_topics</th>\n",
       "    </tr>\n",
       "  </thead>\n",
       "  <tbody>\n",
       "    <tr>\n",
       "      <th>10644</th>\n",
       "      <td>On XX/XX/XXXX I sent via Certified mail to JPC...</td>\n",
       "      <td>Mortgage + Conventional home mortgage</td>\n",
       "      <td>mail jpchase research department/archives/prop...</td>\n",
       "      <td>2</td>\n",
       "    </tr>\n",
       "    <tr>\n",
       "      <th>17305</th>\n",
       "      <td>XXXX appraisal fee not refunded after closing ...</td>\n",
       "      <td>Bank account or service + Other bank product/s...</td>\n",
       "      <td>fee refund refin attempt bank zip code.th fee ...</td>\n",
       "      <td>0</td>\n",
       "    </tr>\n",
       "    <tr>\n",
       "      <th>8250</th>\n",
       "      <td>My car was hit by an uninsured drunk driver wh...</td>\n",
       "      <td>Credit reporting, credit repair services, or o...</td>\n",
       "      <td>car drunk driver park middl night insur compan...</td>\n",
       "      <td>2</td>\n",
       "    </tr>\n",
       "    <tr>\n",
       "      <th>16343</th>\n",
       "      <td>On XX/XX/2018, at approx XXXX CT, I spoke with...</td>\n",
       "      <td>Credit card or prepaid card + General-purpose ...</td>\n",
       "      <td>2018 ct card servic supervisor telephon center...</td>\n",
       "      <td>1</td>\n",
       "    </tr>\n",
       "    <tr>\n",
       "      <th>14018</th>\n",
       "      <td>car was total ins co sent ck over. Bank needs ...</td>\n",
       "      <td>Consumer Loan + Vehicle loan</td>\n",
       "      <td>car total co ck bank need process gap claim wa...</td>\n",
       "      <td>0</td>\n",
       "    </tr>\n",
       "  </tbody>\n",
       "</table>\n",
       "</div>"
      ],
      "text/plain": [
       "                                 complaint_what_happened  \\\n",
       "10644  On XX/XX/XXXX I sent via Certified mail to JPC...   \n",
       "17305  XXXX appraisal fee not refunded after closing ...   \n",
       "8250   My car was hit by an uninsured drunk driver wh...   \n",
       "16343  On XX/XX/2018, at approx XXXX CT, I spoke with...   \n",
       "14018  car was total ins co sent ck over. Bank needs ...   \n",
       "\n",
       "                                   ticket_classification  \\\n",
       "10644              Mortgage + Conventional home mortgage   \n",
       "17305  Bank account or service + Other bank product/s...   \n",
       "8250   Credit reporting, credit repair services, or o...   \n",
       "16343  Credit card or prepaid card + General-purpose ...   \n",
       "14018                       Consumer Loan + Vehicle loan   \n",
       "\n",
       "                                          processed_text  relevant_topics  \n",
       "10644  mail jpchase research department/archives/prop...                2  \n",
       "17305  fee refund refin attempt bank zip code.th fee ...                0  \n",
       "8250   car drunk driver park middl night insur compan...                2  \n",
       "16343  2018 ct card servic supervisor telephon center...                1  \n",
       "14018  car total co ck bank need process gap claim wa...                0  "
      ]
     },
     "execution_count": 67,
     "metadata": {},
     "output_type": "execute_result"
    }
   ],
   "source": [
    "col_names = [\"topic\" + str(i) for i in range(nmf.n_components)]\n",
    "tickets_names = [\"ticket_\" + str(i) for i in range(len(df.processed_text))]\n",
    "df_doc_topics = pd.DataFrame(\n",
    "    np.round(W, 2), columns=col_names, index=tickets_names\n",
    ")\n",
    "top_topics = np.argmax(W, axis=1)\n",
    "df_doc_topics[\"relevant_topics\"] = top_topics\n",
    "df[\"relevant_topics\"] = top_topics\n",
    "df.sample(5, random_state=42)"
   ]
  },
  {
   "cell_type": "code",
   "execution_count": 68,
   "metadata": {},
   "outputs": [
    {
     "data": {
      "text/html": [
       "<div>\n",
       "<style scoped>\n",
       "    .dataframe tbody tr th:only-of-type {\n",
       "        vertical-align: middle;\n",
       "    }\n",
       "\n",
       "    .dataframe tbody tr th {\n",
       "        vertical-align: top;\n",
       "    }\n",
       "\n",
       "    .dataframe thead th {\n",
       "        text-align: right;\n",
       "    }\n",
       "</style>\n",
       "<table border=\"1\" class=\"dataframe\">\n",
       "  <thead>\n",
       "    <tr style=\"text-align: right;\">\n",
       "      <th></th>\n",
       "      <th>complaint_what_happened</th>\n",
       "      <th>ticket_classification</th>\n",
       "      <th>processed_text</th>\n",
       "      <th>relevant_topics</th>\n",
       "    </tr>\n",
       "  </thead>\n",
       "  <tbody>\n",
       "    <tr>\n",
       "      <th>10644</th>\n",
       "      <td>On XX/XX/XXXX I sent via Certified mail to JPC...</td>\n",
       "      <td>Mortgage + Conventional home mortgage</td>\n",
       "      <td>mail jpchase research department/archives/prop...</td>\n",
       "      <td>Mortgage/Loan</td>\n",
       "    </tr>\n",
       "    <tr>\n",
       "      <th>17305</th>\n",
       "      <td>XXXX appraisal fee not refunded after closing ...</td>\n",
       "      <td>Bank account or service + Other bank product/s...</td>\n",
       "      <td>fee refund refin attempt bank zip code.th fee ...</td>\n",
       "      <td>Bank Account Services</td>\n",
       "    </tr>\n",
       "    <tr>\n",
       "      <th>8250</th>\n",
       "      <td>My car was hit by an uninsured drunk driver wh...</td>\n",
       "      <td>Credit reporting, credit repair services, or o...</td>\n",
       "      <td>car drunk driver park middl night insur compan...</td>\n",
       "      <td>Mortgage/Loan</td>\n",
       "    </tr>\n",
       "    <tr>\n",
       "      <th>16343</th>\n",
       "      <td>On XX/XX/2018, at approx XXXX CT, I spoke with...</td>\n",
       "      <td>Credit card or prepaid card + General-purpose ...</td>\n",
       "      <td>2018 ct card servic supervisor telephon center...</td>\n",
       "      <td>Credit Report or Prepaid Card</td>\n",
       "    </tr>\n",
       "    <tr>\n",
       "      <th>14018</th>\n",
       "      <td>car was total ins co sent ck over. Bank needs ...</td>\n",
       "      <td>Consumer Loan + Vehicle loan</td>\n",
       "      <td>car total co ck bank need process gap claim wa...</td>\n",
       "      <td>Bank Account Services</td>\n",
       "    </tr>\n",
       "  </tbody>\n",
       "</table>\n",
       "</div>"
      ],
      "text/plain": [
       "                                 complaint_what_happened  \\\n",
       "10644  On XX/XX/XXXX I sent via Certified mail to JPC...   \n",
       "17305  XXXX appraisal fee not refunded after closing ...   \n",
       "8250   My car was hit by an uninsured drunk driver wh...   \n",
       "16343  On XX/XX/2018, at approx XXXX CT, I spoke with...   \n",
       "14018  car was total ins co sent ck over. Bank needs ...   \n",
       "\n",
       "                                   ticket_classification  \\\n",
       "10644              Mortgage + Conventional home mortgage   \n",
       "17305  Bank account or service + Other bank product/s...   \n",
       "8250   Credit reporting, credit repair services, or o...   \n",
       "16343  Credit card or prepaid card + General-purpose ...   \n",
       "14018                       Consumer Loan + Vehicle loan   \n",
       "\n",
       "                                          processed_text  \\\n",
       "10644  mail jpchase research department/archives/prop...   \n",
       "17305  fee refund refin attempt bank zip code.th fee ...   \n",
       "8250   car drunk driver park middl night insur compan...   \n",
       "16343  2018 ct card servic supervisor telephon center...   \n",
       "14018  car total co ck bank need process gap claim wa...   \n",
       "\n",
       "                     relevant_topics  \n",
       "10644                  Mortgage/Loan  \n",
       "17305          Bank Account Services  \n",
       "8250                   Mortgage/Loan  \n",
       "16343  Credit Report or Prepaid Card  \n",
       "14018          Bank Account Services  "
      ]
     },
     "execution_count": 68,
     "metadata": {},
     "output_type": "execute_result"
    }
   ],
   "source": [
    "dict_mapping = {\n",
    "    0: \"Bank Account Services\",\n",
    "    1: \"Credit Report or Prepaid Card\",\n",
    "    2: \"Mortgage/Loan\",\n",
    "}\n",
    "df[\"relevant_topics\"] = df[\"relevant_topics\"].map(dict_mapping)\n",
    "df.sample(5, random_state=42)"
   ]
  }
 ],
 "metadata": {
  "kernelspec": {
   "display_name": ".venv",
   "language": "python",
   "name": "python3"
  },
  "language_info": {
   "codemirror_mode": {
    "name": "ipython",
    "version": 3
   },
   "file_extension": ".py",
   "mimetype": "text/x-python",
   "name": "python",
   "nbconvert_exporter": "python",
   "pygments_lexer": "ipython3",
   "version": "3.9.17"
  }
 },
 "nbformat": 4,
 "nbformat_minor": 2
}
